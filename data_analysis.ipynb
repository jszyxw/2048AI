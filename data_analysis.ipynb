{
  "nbformat": 4,
  "nbformat_minor": 0,
  "metadata": {
    "kernelspec": {
      "display_name": "Python 3",
      "language": "python",
      "name": "python3"
    },
    "language_info": {
      "codemirror_mode": {
        "name": "ipython",
        "version": 3
      },
      "file_extension": ".py",
      "mimetype": "text/x-python",
      "name": "python",
      "nbconvert_exporter": "python",
      "pygments_lexer": "ipython3",
      "version": "3.7.6"
    },
    "colab": {
      "name": "data analysis.ipynb",
      "provenance": [],
      "include_colab_link": true
    }
  },
  "cells": [
    {
      "cell_type": "markdown",
      "metadata": {
        "id": "view-in-github",
        "colab_type": "text"
      },
      "source": [
        "<a href=\"https://colab.research.google.com/github/jszyxw/2048AI/blob/master/data_analysis.ipynb\" target=\"_parent\"><img src=\"https://colab.research.google.com/assets/colab-badge.svg\" alt=\"Open In Colab\"/></a>"
      ]
    },
    {
      "cell_type": "markdown",
      "metadata": {
        "id": "O_oDwAQLsOxo"
      },
      "source": [
        "# 互联网数据挖掘 作业报告 数据分析部分\n",
        "\n",
        "刘宇晗 1800013079"
      ]
    },
    {
      "cell_type": "code",
      "metadata": {
        "_cell_guid": "b1076dfc-b9ad-4769-8c92-a6c4dae69d19",
        "_uuid": "8f2839f25d086af736a60e9eeb907d3b93b6e0e5",
        "id": "Lx9lMOIksOxp"
      },
      "source": [
        "import numpy as np\n",
        "import pandas as pd\n",
        "\n",
        "import unicodedata, re, string\n",
        "import nltk\n",
        "\n",
        "import torch\n",
        "import torch.nn as nn\n",
        "from torch.utils.data import TensorDataset, DataLoader\n",
        "\n",
        "import seaborn as sns\n",
        "sns.set(color_codes=True)\n",
        "\n",
        "import matplotlib.pyplot as plt\n",
        "import os"
      ],
      "execution_count": null,
      "outputs": []
    },
    {
      "cell_type": "markdown",
      "metadata": {
        "_uuid": "3ea4268a41e63dbf967bdaf1d8a66112e0e295de",
        "id": "KTFexT8nsOxp"
      },
      "source": [
        "## 数据集调研"
      ]
    },
    {
      "cell_type": "code",
      "metadata": {
        "_uuid": "81953f0026a9fd8fc234e76b9dc225335efbc354",
        "id": "XjPg-7gPsOxp"
      },
      "source": [
        "df_train = pd.read_csv(\"train.txt\", sep=\"\\t\")\n",
        "df_test = pd.read_csv(\"test1.txt\", sep=\"\\t\")"
      ],
      "execution_count": null,
      "outputs": []
    },
    {
      "cell_type": "code",
      "metadata": {
        "_uuid": "f69cc2ba0f2cb2ab79807a16b4d252b7a4339d6e",
        "id": "PdtXMmm6sOxp",
        "outputId": "59359799-8d99-4d3a-b5b6-1488f92dc426"
      },
      "source": [
        "df_train.info()"
      ],
      "execution_count": null,
      "outputs": [
        {
          "output_type": "stream",
          "text": [
            "<class 'pandas.core.frame.DataFrame'>\n",
            "RangeIndex: 99989 entries, 0 to 99988\n",
            "Data columns (total 2 columns):\n",
            "Text       99989 non-null object\n",
            "isRobot    99989 non-null int64\n",
            "dtypes: int64(1), object(1)\n",
            "memory usage: 1.5+ MB\n"
          ],
          "name": "stdout"
        }
      ]
    },
    {
      "cell_type": "code",
      "metadata": {
        "_uuid": "109a0161dc81056c529f6f10cb558fd4e06a8206",
        "id": "544DN8g1sOxr",
        "outputId": "9348fb8a-1043-488a-9269-3ebbd1e5b93b"
      },
      "source": [
        "df_train.head()"
      ],
      "execution_count": null,
      "outputs": [
        {
          "output_type": "execute_result",
          "data": {
            "text/html": [
              "<div>\n",
              "<style scoped>\n",
              "    .dataframe tbody tr th:only-of-type {\n",
              "        vertical-align: middle;\n",
              "    }\n",
              "\n",
              "    .dataframe tbody tr th {\n",
              "        vertical-align: top;\n",
              "    }\n",
              "\n",
              "    .dataframe thead th {\n",
              "        text-align: right;\n",
              "    }\n",
              "</style>\n",
              "<table border=\"1\" class=\"dataframe\">\n",
              "  <thead>\n",
              "    <tr style=\"text-align: right;\">\n",
              "      <th></th>\n",
              "      <th>Text</th>\n",
              "      <th>isRobot</th>\n",
              "    </tr>\n",
              "  </thead>\n",
              "  <tbody>\n",
              "    <tr>\n",
              "      <th>0</th>\n",
              "      <td>A woman noticed something strange in her famil...</td>\n",
              "      <td>1</td>\n",
              "    </tr>\n",
              "    <tr>\n",
              "      <th>1</th>\n",
              "      <td>On Monday, a North Korean soldier was shot six...</td>\n",
              "      <td>1</td>\n",
              "    </tr>\n",
              "    <tr>\n",
              "      <th>2</th>\n",
              "      <td>It's no secret that iOS rivals Android. We kno...</td>\n",
              "      <td>0</td>\n",
              "    </tr>\n",
              "    <tr>\n",
              "      <th>3</th>\n",
              "      <td>So, you've decided to move on. You've signed o...</td>\n",
              "      <td>1</td>\n",
              "    </tr>\n",
              "    <tr>\n",
              "      <th>4</th>\n",
              "      <td>The Queens borough president celebrated New Ye...</td>\n",
              "      <td>0</td>\n",
              "    </tr>\n",
              "  </tbody>\n",
              "</table>\n",
              "</div>"
            ],
            "text/plain": [
              "                                                Text  isRobot\n",
              "0  A woman noticed something strange in her famil...        1\n",
              "1  On Monday, a North Korean soldier was shot six...        1\n",
              "2  It's no secret that iOS rivals Android. We kno...        0\n",
              "3  So, you've decided to move on. You've signed o...        1\n",
              "4  The Queens borough president celebrated New Ye...        0"
            ]
          },
          "metadata": {
            "tags": []
          },
          "execution_count": 4
        }
      ]
    },
    {
      "cell_type": "code",
      "metadata": {
        "_uuid": "30d1ae62f1dc4f3decfd1fea4eca717c2c1ff288",
        "id": "JPnuxwFhsOxr",
        "outputId": "6f6d85b4-ab06-47fe-d025-957e5292d2d7"
      },
      "source": [
        "df_train['Text'][0]"
      ],
      "execution_count": null,
      "outputs": [
        {
          "output_type": "execute_result",
          "data": {
            "text/plain": [
              "'A woman noticed something strange in her family\\'s photo album, in an old picture of herself recently. The 21-year-old journalist was looking through pictures when she found a ghostly little girl that appeared to be following her in one of the photos.  Anastassia Perets was looking through her family\\'s photo album last month and she discovered an eerie photo of herself when she was 4-years-old. In the photo, Perets can be seen walking near a bird cage as a ghostly little girl is following closely behind her.  Perets claims that there was no other little girls in the house at the time of when the photo was taken. The ghost girl appears to have blonde hair and she can be seen wearing a long white gown and holding a stuffed animal toy.  \"I present you with a recently discovered creepy photo of my childhood. That is all. And if the creepiness factor isn\\'t obvious, it is because that girl in the background isn\\'t a real person,\" Perets posted on the photo\\'s description on her Facebook.  Perets questioned her parents about the photo and asked them who the child was. Her parents said that they have never seen the little girl and that she must be a ghost.  \"I thought it was a mirror or something but further observation showed me that it was not so I got so freaked out I started screaming and crying and the neighbors thought someone must have broken in or something,\" Perets said.  Perets consulted with a psychic, and without divulging the photo of the ghostly girl, the psychic informed her that a spirit of young girl was attached to her and following her around.  The dead seem to enjoy photobombing the living. So far this year, there here have been a lot of eerie figures that were found in photos and selfies. Even celebrities can\\'t hide from the attenion-seeking ghosts.  Amy Bruni noticed a ghostly figure in an old image that was in her family photo album in November. The former \"Ghost Hunters\" cast member found the photo while visiting her family and she posted the image on her Facebook page and it went viral. While looking through a photo album with her sister, Bruni found an image that she took of her that had an eerie figure in it.  What exactly is the eerie figure in the photo? Is it a hoax? Could it actually be a ghost? Sound off with opinions in the comment section below.'"
            ]
          },
          "metadata": {
            "tags": []
          },
          "execution_count": 5
        }
      ]
    },
    {
      "cell_type": "markdown",
      "metadata": {
        "_uuid": "d6b71ead238ca90002183a854334da49dd319360",
        "id": "A4G0yE8PsOxr"
      },
      "source": [
        "样本数量的可视化："
      ]
    },
    {
      "cell_type": "code",
      "metadata": {
        "_uuid": "14a584929ac8ef23a3bdf184d8fb1f65556fac38",
        "id": "qSKex7KssOxr",
        "outputId": "42e642d1-250f-49ea-8077-353edbcf7c55"
      },
      "source": [
        "dist = df_train.groupby([\"isRobot\"]).size()\n",
        "\n",
        "fig, ax = plt.subplots(figsize=(12,8))\n",
        "sns.barplot(dist.keys(), dist.values);"
      ],
      "execution_count": null,
      "outputs": [
        {
          "output_type": "display_data",
          "data": {
            "image/png": "[encoded data removed]",
            "text/plain": [
              "<Figure size 864x576 with 1 Axes>"
            ]
          },
          "metadata": {
            "tags": [],
            "needs_background": "light"
          }
        }
      ]
    },
    {
      "cell_type": "markdown",
      "metadata": {
        "_uuid": "3485562c7cd2ac11917b5e9953b761ad94110a2e",
        "id": "iQqFQxnksOxr"
      },
      "source": [
        "可以发现正负样本数据量相等。"
      ]
    },
    {
      "cell_type": "code",
      "metadata": {
        "_uuid": "d61cc2aad4ddc8dafe532c04903c1c6931eb3564",
        "scrolled": false,
        "id": "hlxFvt7rsOxr",
        "outputId": "3fcae943-5fe9-4cd3-e33d-7f2b79a84ea0"
      },
      "source": [
        "df_train['Text'].apply(lambda x:len(x.split())).plot(kind='hist')\n",
        "#plt.yscale('log');\n",
        "plt.title('distribution of text length in characters')"
      ],
      "execution_count": null,
      "outputs": [
        {
          "output_type": "execute_result",
          "data": {
            "text/plain": [
              "Text(0.5, 1.0, 'distribution of text length in characters')"
            ]
          },
          "metadata": {
            "tags": []
          },
          "execution_count": 12
        },
        {
          "output_type": "display_data",
          "data": {
            "image/png": "[encoded data removed]",
            "text/plain": [
              "<Figure size 432x288 with 1 Axes>"
            ]
          },
          "metadata": {
            "tags": [],
            "needs_background": "light"
          }
        }
      ]
    },
    {
      "cell_type": "markdown",
      "metadata": {
        "id": "XikufPR5sOxr"
      },
      "source": [
        "可以发现大部分数据在510字以内，但也有一部分数据长度明显大于510字，即**超过bert-base的长度上限512**。"
      ]
    },
    {
      "cell_type": "code",
      "metadata": {
        "id": "HNepGiKrsOxr",
        "outputId": "87b60fd2-f676-405f-b6e9-fa35c5bc31e7"
      },
      "source": [
        "fitLengthTextCount = sum(df_train['Text'].apply(lambda x:len(x.split())<512))\n",
        "rate = fitLengthTextCount / len(df_train)\n",
        "print(\"长度小于510的样本占总训练样本的比例为 %.2f %%\" % (rate * 100))\n",
        "maxTextLength = max(df_train['Text'].apply(lambda x:len(x.split())))\n",
        "print(\"Max text length = %d\" % maxTextLength)\n"
      ],
      "execution_count": null,
      "outputs": [
        {
          "output_type": "stream",
          "text": [
            "长度小于510的样本占总训练样本的比例为 78.32 %\n",
            "Max text length = 1294\n"
          ],
          "name": "stdout"
        }
      ]
    },
    {
      "cell_type": "code",
      "metadata": {
        "id": "KVuXjn1AsOxs",
        "outputId": "db380ac4-8c7f-4b05-fc80-f1deb17cbd9d"
      },
      "source": [
        "lenMax = []\n",
        "for i in df_train['Text'].apply(lambda x:len(x.split()) if len(x.split())>510 else 0):\n",
        "    if i != 0:\n",
        "        lenMax.append(int(i))\n",
        "plt.hist(lenMax)\n",
        "plt.yscale('log');\n",
        "plt.title('distribution of text length in characters (characters > 510)')"
      ],
      "execution_count": null,
      "outputs": [
        {
          "output_type": "execute_result",
          "data": {
            "text/plain": [
              "Text(0.5, 1.0, 'distribution of text length in characters (characters > 510)')"
            ]
          },
          "metadata": {
            "tags": []
          },
          "execution_count": 36
        },
        {
          "output_type": "display_data",
          "data": {
            "image/png": "[encoded data removed]",
            "text/plain": [
              "<Figure size 432x288 with 1 Axes>"
            ]
          },
          "metadata": {
            "tags": [],
            "needs_background": "light"
          }
        }
      ]
    },
    {
      "cell_type": "markdown",
      "metadata": {
        "id": "RO-QYuEVsOxs"
      },
      "source": [
        "可以发现除了一个长度为1294的超长样本之外，其他样本长度都在1000以内。\n",
        "通过查阅相关论文等渠道，以下是文本超长问题的解决方法：\n",
        "1. 直接截取前510个单词\n",
        "2. 训练更大长度上限的bert模型\n",
        "3. 使用滑动窗口算法，对单个样本进行分解样本->分别训练->合并训练结果\n",
        "4. 使用其他对长度不敏感的模型\n",
        "限于算力和时间，我使用的无参数训练的bert-base模型在colab上训练5个epoch需要8小时左右，**更大模型**或**更大训练量**的方法的时间耗费极有可能**超出colab的12小时运行时间限制**，所以这次作业我使用的是算法1。是算力不足的条件下的妥协方案。"
      ]
    },
    {
      "cell_type": "markdown",
      "metadata": {
        "id": "-TTJP5ZwsOxs"
      },
      "source": [
        "训练后，根据结果获取测试集1上的性能指标：模型准确率，人类作者标签的F1，P，R"
      ]
    },
    {
      "cell_type": "code",
      "metadata": {
        "id": "PtL2_DQSsOxs",
        "outputId": "1ea247d3-0528-48b4-d85f-41ce7d5262ff"
      },
      "source": [
        "f1 = open(\"test1.txt\", \"r\", encoding = \"utf8\")\n",
        "f2 = open(\"test1output.txt\", \"r\", encoding = \"utf8\")\n",
        "\n",
        "realLabel = []\n",
        "predLabel = []\n",
        "\n",
        "for i in f1.read().splitlines():\n",
        "    if i[-1] == '1' or i[-1] == '0':\n",
        "        realLabel.append(int(i[-1]))\n",
        "\n",
        "for i in f2.read().splitlines():\n",
        "    if i[-1] == '1' or i[-1] == '0':\n",
        "        predLabel.append(int(i[-1]))\n",
        "\n",
        "# print(len(realLabel), len(predLabel))\n",
        "\n",
        "                 # Real Pred\n",
        "TP = 0    # 1    1\n",
        "FN = 0    # 1    0\n",
        "FP = 0    # 0    1\n",
        "TN = 0    # 0    0\n",
        "\n",
        "for i in range(len(realLabel)):\n",
        "    if realLabel[i] == 1 and predLabel[i] == 1:\n",
        "        TP += 1\n",
        "    if realLabel[i] == 1 and predLabel[i] == 0:\n",
        "        FN += 1\n",
        "    if realLabel[i] == 0 and predLabel[i] == 1:\n",
        "        FP += 1\n",
        "    if realLabel[i] == 0 and predLabel[i] == 0:\n",
        "        TN += 1\n",
        "\n",
        "print(\"TP = %d\" % TP)\n",
        "print(\"FN = %d\" % FN)\n",
        "print(\"FP = %d\" % FP)\n",
        "print(\"TN = %d\" % TN)\n"
      ],
      "execution_count": null,
      "outputs": [
        {
          "output_type": "stream",
          "text": [
            "TP = 4825\n",
            "FN = 175\n",
            "FP = 2206\n",
            "TN = 2794\n"
          ],
          "name": "stdout"
        }
      ]
    },
    {
      "cell_type": "code",
      "metadata": {
        "id": "rPe8nXdjsOxs",
        "outputId": "099a6c66-4996-43c1-af7e-fd9d1f6b4a9b"
      },
      "source": [
        "accuracy = (TP + TN) / (TP + TN + FP + FN)\n",
        "precision = TP / (TP + FP)\n",
        "recall = TP / (TP + FN)\n",
        "F1 = (2 * precision * recall) / (precision + recall)\n",
        "\n",
        "print(\"accuracy of human label: %.4f\" % accuracy)\n",
        "print(\"precision of human label: %.4f\" % precision)\n",
        "print(\"recall of human label: %.4f\" % recall)\n",
        "print(\"F1 of human label: %.4f\" % F1)"
      ],
      "execution_count": null,
      "outputs": [
        {
          "output_type": "stream",
          "text": [
            "accuracy of human label: 0.7619\n",
            "precision of human label: 0.6862\n",
            "recall of human label: 0.9650\n",
            "F1 of human label: 0.8021\n"
          ],
          "name": "stdout"
        }
      ]
    },
    {
      "cell_type": "markdown",
      "metadata": {
        "id": "5CxFlY8hsOxs"
      },
      "source": [
        "由上可知*模型*在测试集1上的准确率约为 $76.2\\%$.\n",
        "以上模型的测试结果仅代表训练在训练上述模型时仅跑了3个epoch，模型未收敛时的测试结果，详细原因请见作业报告——模型训练部分。"
      ]
    }
  ]
}